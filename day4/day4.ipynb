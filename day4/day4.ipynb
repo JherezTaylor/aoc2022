{
 "cells": [
  {
   "cell_type": "markdown",
   "metadata": {},
   "source": [
    "## Camp Cleanup"
   ]
  },
  {
   "cell_type": "code",
   "execution_count": null,
   "metadata": {},
   "outputs": [],
   "source": [
    "# setup\n",
    "def load_lines(filename: str):\n",
    "    input = open(filename, \"r\")\n",
    "    lines = input.readlines()\n",
    "    return lines\n",
    "\n",
    "def get_pairs(line: str) -> tuple[list[int], list[int]]:\n",
    "   pairs = [[int(w) for w in x.split(\"-\")] for x in line.strip().split(\",\")]\n",
    "   return (pairs[0], pairs[1])\n",
    "\n",
    "def has_full_overlap(pair_a: list[int], pair_b: list[int]) -> bool:\n",
    "    if pair_a[0] >= pair_b[0] and pair_a[1] <= pair_b[1]:\n",
    "        return True\n",
    "    if pair_b[0] >= pair_a[0] and pair_b[1] <= pair_a[1]:\n",
    "        return True\n",
    "    return False\n",
    "\n",
    "def has_partial_overlap(pair_a: list[int], pair_b: list[int]) -> bool:\n",
    "    return pair_a[1] < pair_b[0] or pair_a[0] > pair_b[1]\n"
   ]
  },
  {
   "cell_type": "code",
   "execution_count": null,
   "metadata": {},
   "outputs": [],
   "source": [
    "# part 1\n",
    "def do_cleanup(filename: str) -> int:\n",
    "    count = 0\n",
    "    lines = load_lines(filename)\n",
    "    for line in lines:\n",
    "        pairs = get_pairs(line)\n",
    "        if has_full_overlap(pairs[0], pairs[1]):\n",
    "            count += 1\n",
    "    return count\n",
    "\n",
    "do_cleanup(\"input.txt\")"
   ]
  },
  {
   "cell_type": "code",
   "execution_count": null,
   "metadata": {},
   "outputs": [],
   "source": [
    "# part 2\n",
    "def do_partial_cleanup(filename: str) -> int:\n",
    "    count = 0\n",
    "    lines = load_lines(filename)\n",
    "    for line in lines:\n",
    "        pairs = get_pairs(line)\n",
    "        if not has_partial_overlap(pairs[0], pairs[1]):\n",
    "            count += 1\n",
    "    return count\n",
    "\n",
    "do_partial_cleanup(\"input.txt\")"
   ]
  }
 ],
 "metadata": {
  "kernelspec": {
   "display_name": "Python 3.11.0 64-bit ('playground')",
   "language": "python",
   "name": "python3"
  },
  "language_info": {
   "codemirror_mode": {
    "name": "ipython",
    "version": 3
   },
   "file_extension": ".py",
   "mimetype": "text/x-python",
   "name": "python",
   "nbconvert_exporter": "python",
   "pygments_lexer": "ipython3",
   "version": "3.11.0"
  },
  "orig_nbformat": 4,
  "vscode": {
   "interpreter": {
    "hash": "34e6b17fc7ee89420b7ed385a9454a4f89d562737b2ab464554471ea3ff24744"
   }
  }
 },
 "nbformat": 4,
 "nbformat_minor": 2
}
