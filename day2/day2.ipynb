{
 "cells": [
  {
   "cell_type": "markdown",
   "metadata": {},
   "source": [
    "## Day 2 - Rock, Paper, Scissors"
   ]
  },
  {
   "cell_type": "code",
   "execution_count": null,
   "metadata": {},
   "outputs": [],
   "source": [
    "# setup\n",
    "shape_scores = {\n",
    "    \"X\": 1, \"Y\": 2, \"Z\": 3\n",
    "}\n",
    "name_to_shape = {\n",
    "    \"rock\": \"X\", \"paper\": \"Y\", \"scissors\": \"Z\"\n",
    "}\n",
    "outcome_scores = {\n",
    "    \"loss\": 0, \"draw\": 3, \"win\": 6\n",
    "}\n",
    "\n",
    "matchups = {\n",
    "    \"rock\": {\n",
    "        \"beat\": \"scissors\",\n",
    "        \"defeat\": \"paper\",\n",
    "        \"name\": \"rock\"\n",
    "    },\n",
    "    \"paper\": {\n",
    "        \"beat\": \"rock\",\n",
    "        \"defeat\": \"scissors\",\n",
    "        \"name\": \"paper\"\n",
    "    },\n",
    "    \"scissors\": {\n",
    "        \"beat\": \"paper\",\n",
    "        \"defeat\": \"rock\",\n",
    "        \"name\": \"scissors\"\n",
    "    }\n",
    "}\n",
    "\n",
    "def get_item(hand: str):\n",
    "    if hand in {\"A\", \"X\"}:\n",
    "        return matchups[\"rock\"]\n",
    "    if hand in {\"B\", \"Y\"}:\n",
    "        return matchups[\"paper\"]\n",
    "    if hand in {\"C\", \"Z\"}:\n",
    "        return matchups[\"scissors\"]\n",
    "\n",
    "def check_winner(hand1: str, hand2: str) -> str:\n",
    "    item1, item2 = get_item(hand1), get_item(hand2)\n",
    "    if item1[\"name\"] == item2[\"name\"]:\n",
    "        return \"draw\"\n",
    "    if item1[\"name\"] == item2[\"defeat\"]:\n",
    "        return hand1\n",
    "    if item1[\"name\"] == item2[\"beat\"]:\n",
    "        return hand2\n",
    "    return \"\""
   ]
  },
  {
   "cell_type": "code",
   "execution_count": null,
   "metadata": {},
   "outputs": [],
   "source": [
    "def run_game_1(filename: str) -> int:\n",
    "    input = open(filename, 'r')\n",
    "    lines = input.readlines()\n",
    "    total_score = 0\n",
    "    for line in lines:\n",
    "        score = 0\n",
    "        hand1, hand2 = line.strip().split(\" \")\n",
    "        winner = check_winner(hand1, hand2)\n",
    "        if winner == hand1:\n",
    "            score = outcome_scores[\"loss\"] + shape_scores[hand2]\n",
    "            total_score += score\n",
    "        if winner == hand2:\n",
    "            score = outcome_scores[\"win\"] + shape_scores[hand2]\n",
    "            total_score += score\n",
    "        if winner == \"draw\":\n",
    "            score = outcome_scores[\"draw\"] + shape_scores[hand2]\n",
    "            total_score += score\n",
    "    return total_score"
   ]
  },
  {
   "cell_type": "code",
   "execution_count": null,
   "metadata": {},
   "outputs": [],
   "source": [
    "run_game_1(\"test.txt\")\n",
    "run_game_1(\"input.txt\")"
   ]
  },
  {
   "cell_type": "code",
   "execution_count": null,
   "metadata": {},
   "outputs": [],
   "source": [
    "avoid_suspicion = {\"X\": \"lose\", \"Y\": \"draw\", \"Z\": \"win\"}\n",
    "\n",
    "def run_game_2(filename: str) -> int:\n",
    "    input = open(filename, 'r')\n",
    "    lines = input.readlines()\n",
    "    total_score = 0\n",
    "    for line in lines:\n",
    "        score = 0\n",
    "        hand1, hand2 = line.strip().split(\" \")\n",
    "        play = avoid_suspicion[hand2]\n",
    "        if play == \"lose\":\n",
    "            item1 = get_item(hand1)\n",
    "            should_play = item1[\"beat\"]\n",
    "            score = outcome_scores[\"loss\"] + shape_scores[name_to_shape[should_play]]\n",
    "            total_score += score\n",
    "        if play == \"win\":\n",
    "            item1 = get_item(hand1)\n",
    "            should_play = item1[\"defeat\"]\n",
    "            score = outcome_scores[\"win\"] + shape_scores[name_to_shape[should_play]]\n",
    "            total_score += score\n",
    "        if play == \"draw\":\n",
    "            item1 = get_item(hand1)\n",
    "            score = outcome_scores[\"draw\"] + shape_scores[name_to_shape[item1[\"name\"]]]\n",
    "            total_score += score\n",
    "    return total_score"
   ]
  },
  {
   "cell_type": "code",
   "execution_count": null,
   "metadata": {},
   "outputs": [],
   "source": [
    "run_game_2(\"test.txt\")\n",
    "run_game_2(\"input.txt\")"
   ]
  }
 ],
 "metadata": {
  "kernelspec": {
   "display_name": "Python 3.9.5 64-bit ('takehomes')",
   "language": "python",
   "name": "python3"
  },
  "language_info": {
   "codemirror_mode": {
    "name": "ipython",
    "version": 3
   },
   "file_extension": ".py",
   "mimetype": "text/x-python",
   "name": "python",
   "nbconvert_exporter": "python",
   "pygments_lexer": "ipython3",
   "version": "3.9.5"
  },
  "orig_nbformat": 4,
  "vscode": {
   "interpreter": {
    "hash": "87aa4312ded7a453e3de984a03b2c5dcd4c970687763808fed8fe44e8116f583"
   }
  }
 },
 "nbformat": 4,
 "nbformat_minor": 2
}
