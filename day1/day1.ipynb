{
 "cells": [
  {
   "cell_type": "markdown",
   "metadata": {},
   "source": [
    "## Day 1 - Calories"
   ]
  },
  {
   "cell_type": "code",
   "execution_count": null,
   "metadata": {},
   "outputs": [],
   "source": [
    "# Setup\n",
    "import pandas as pd\n",
    "\n",
    "# Get input and insert a new line marker\n",
    "df = pd.read_csv(\"input.txt\",skip_blank_lines=False)\n",
    "df = df.fillna(-999)\n",
    "meals = pd.to_numeric(df[\"calories\"], downcast=\"integer\").to_list()"
   ]
  },
  {
   "cell_type": "code",
   "execution_count": null,
   "metadata": {},
   "outputs": [],
   "source": [
    "# Part 1, top elf total\n",
    "max_calories = 0\n",
    "top_elf = 0\n",
    "prev_elf = 0\n",
    "for idx, meal in enumerate(meals):\n",
    "    if meal != -999:\n",
    "        continue\n",
    "    else:\n",
    "        check_meals = sum(meals[prev_elf:idx])\n",
    "        if check_meals > max_calories:\n",
    "            max_calories = check_meals\n",
    "            top_elf = idx\n",
    "        prev_elf = idx + 1\n",
    "print(max_calories, top_elf)"
   ]
  },
  {
   "cell_type": "code",
   "execution_count": null,
   "metadata": {},
   "outputs": [],
   "source": [
    "# Part 2, top 3 elf totals\n",
    "check_calories = []\n",
    "prev_elf = 0\n",
    "for idx, meal in enumerate(meals):\n",
    "    if meal != -999:\n",
    "        continue\n",
    "    else:\n",
    "        check_meals = sum(meals[prev_elf:idx])\n",
    "        check_calories.append(check_meals)\n",
    "        prev_elf = idx + 1\n",
    "print(sum(sorted(check_calories, reverse=True)[:3]))"
   ]
  }
 ],
 "metadata": {
  "kernelspec": {
   "display_name": "Python 3.9.5 64-bit ('takehomes')",
   "language": "python",
   "name": "python3"
  },
  "language_info": {
   "codemirror_mode": {
    "name": "ipython",
    "version": 3
   },
   "file_extension": ".py",
   "mimetype": "text/x-python",
   "name": "python",
   "nbconvert_exporter": "python",
   "pygments_lexer": "ipython3",
   "version": "3.9.5"
  },
  "orig_nbformat": 4,
  "vscode": {
   "interpreter": {
    "hash": "87aa4312ded7a453e3de984a03b2c5dcd4c970687763808fed8fe44e8116f583"
   }
  }
 },
 "nbformat": 4,
 "nbformat_minor": 2
}
