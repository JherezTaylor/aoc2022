{
 "cells": [
  {
   "cell_type": "markdown",
   "metadata": {},
   "source": [
    "## Day 3 - Priorities"
   ]
  },
  {
   "cell_type": "code",
   "execution_count": null,
   "metadata": {},
   "outputs": [],
   "source": [
    "# setup\n",
    "def priority_lowercase(letter: str) -> int:\n",
    "    \"\"\"\n",
    "    Get ordinal representation for lowercase characters\n",
    "    \"\"\"\n",
    "    return ord(letter) - ord(\"a\") + 1 \n",
    "\n",
    "def priority_uppercase(letter: str) -> int:\n",
    "    \"\"\"\n",
    "    Get ordinal representation for uppercase characters, offset by the lowercase range\n",
    "    \"\"\"\n",
    "    return ord(letter) - ord(\"A\") + ord(\"z\") - ord(\"a\") + 2\n",
    "\n",
    "lower_case_values = {chr(val): priority_lowercase(chr(val)) for val in range(ord(\"a\"), ord(\"z\") + 1)}\n",
    "upper_case_values = {chr(val): priority_uppercase(chr(val)) for val in range(ord(\"A\"), ord(\"Z\") + 1)}"
   ]
  },
  {
   "cell_type": "code",
   "execution_count": null,
   "metadata": {},
   "outputs": [],
   "source": [
    "def split_bucket(item_list: str):\n",
    "    length = len(item_list)\n",
    "    return item_list[0: int(length / 2)], item_list[int(length / 2): ]\n",
    "\n",
    "def get_priority(item: str) -> int:\n",
    "    if item.islower():\n",
    "        return priority_lowercase(item)\n",
    "    return priority_uppercase(item)\n"
   ]
  },
  {
   "cell_type": "code",
   "execution_count": null,
   "metadata": {},
   "outputs": [],
   "source": [
    "def sum_priorities(filename: str) -> int:\n",
    "    input = open(filename, \"r\")\n",
    "    lines = input.readlines()\n",
    "    total = 0\n",
    "    for line in lines:\n",
    "        bucket_a, bucket_b = split_bucket(line.strip())\n",
    "        overlap = set(bucket_a).intersection(set(bucket_b))\n",
    "        total += get_priority(list(overlap)[0])\n",
    "    return total"
   ]
  },
  {
   "cell_type": "code",
   "execution_count": null,
   "metadata": {},
   "outputs": [],
   "source": [
    "print(sum_priorities(\"test.txt\"))\n",
    "print(sum_priorities(\"input.txt\"))"
   ]
  },
  {
   "cell_type": "code",
   "execution_count": null,
   "metadata": {},
   "outputs": [],
   "source": [
    "def sum_priorities_as_group(filename: str) -> int:\n",
    "    input = open(filename, \"r\")\n",
    "    lines = input.readlines()\n",
    "    total = 0\n",
    "    current_group = []\n",
    "    for line in lines:\n",
    "        if len(current_group) != 3:\n",
    "            current_group.append(set(line.strip()))\n",
    "        if len(current_group) == 3:\n",
    "            overlap = set.intersection(current_group[0], current_group[1], current_group[2])\n",
    "            total += get_priority(list(overlap)[0])\n",
    "            current_group = []\n",
    "    return total\n"
   ]
  },
  {
   "cell_type": "code",
   "execution_count": null,
   "metadata": {},
   "outputs": [],
   "source": [
    "print(sum_priorities_as_group(\"test.txt\"))\n",
    "print(sum_priorities_as_group(\"input.txt\"))"
   ]
  }
 ],
 "metadata": {
  "kernelspec": {
   "display_name": "Python 3.11.0 64-bit",
   "language": "python",
   "name": "python3"
  },
  "language_info": {
   "codemirror_mode": {
    "name": "ipython",
    "version": 3
   },
   "file_extension": ".py",
   "mimetype": "text/x-python",
   "name": "python",
   "nbconvert_exporter": "python",
   "pygments_lexer": "ipython3",
   "version": "3.11.0"
  },
  "orig_nbformat": 4,
  "vscode": {
   "interpreter": {
    "hash": "1a1af0ee75eeea9e2e1ee996c87e7a2b11a0bebd85af04bb136d915cefc0abce"
   }
  }
 },
 "nbformat": 4,
 "nbformat_minor": 2
}
